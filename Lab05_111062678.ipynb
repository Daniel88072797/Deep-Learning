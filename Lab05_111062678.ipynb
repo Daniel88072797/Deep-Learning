{
 "cells": [
  {
   "cell_type": "markdown",
   "id": "58136806",
   "metadata": {},
   "source": [
    "# Lab05_111062678"
   ]
  },
  {
   "cell_type": "code",
   "execution_count": 68,
   "id": "46b797c3",
   "metadata": {},
   "outputs": [],
   "source": [
    "import pandas as pd\n",
    "import numpy as np"
   ]
  },
  {
   "cell_type": "code",
   "execution_count": 69,
   "id": "2dab84b0",
   "metadata": {},
   "outputs": [],
   "source": [
    "# download the dataset\n",
    "import urllib.request\n",
    "\n",
    "urllib.request.urlretrieve(\"https://nthu-datalab.github.io/ml/labs/05_Regularization/data/X_train.csv\", \"./data/X_train.csv\")\n",
    "urllib.request.urlretrieve(\"https://nthu-datalab.github.io/ml/labs/05_Regularization/data/y_train.csv\", \"./data/y_train.csv\")\n",
    "urllib.request.urlretrieve(\"https://nthu-datalab.github.io/ml/labs/05_Regularization/data/X_test.csv\", \"./data/X_test.csv\")\n",
    "\n",
    "X_train = pd.read_csv('./data/X_train.csv')\n",
    "y_train = pd.read_csv('./data/y_train.csv')\n",
    "X_test_submit = pd.read_csv('./data/X_test.csv') # No y_test"
   ]
  },
  {
   "cell_type": "code",
   "execution_count": 70,
   "id": "331b791d",
   "metadata": {},
   "outputs": [
    {
     "name": "stdout",
     "output_type": "stream",
     "text": [
      "(85751, 8)\n",
      "Index(['PERIOD', 'GAME_CLOCK', 'SHOT_CLOCK', 'DRIBBLES', 'TOUCH_TIME',\n",
      "       'SHOT_DIST', 'PTS_TYPE', 'CLOSE_DEF_DIST'],\n",
      "      dtype='object')\n",
      "Index(['FGM'], dtype='object')\n"
     ]
    }
   ],
   "source": [
    "print(X_train.shape)\n",
    "print(X_train.columns)\n",
    "print(y_train.columns)"
   ]
  },
  {
   "cell_type": "code",
   "execution_count": 71,
   "id": "629099a8",
   "metadata": {},
   "outputs": [
    {
     "data": {
      "text/html": [
       "<div>\n",
       "<style scoped>\n",
       "    .dataframe tbody tr th:only-of-type {\n",
       "        vertical-align: middle;\n",
       "    }\n",
       "\n",
       "    .dataframe tbody tr th {\n",
       "        vertical-align: top;\n",
       "    }\n",
       "\n",
       "    .dataframe thead th {\n",
       "        text-align: right;\n",
       "    }\n",
       "</style>\n",
       "<table border=\"1\" class=\"dataframe\">\n",
       "  <thead>\n",
       "    <tr style=\"text-align: right;\">\n",
       "      <th></th>\n",
       "      <th>PERIOD</th>\n",
       "      <th>GAME_CLOCK</th>\n",
       "      <th>SHOT_CLOCK</th>\n",
       "      <th>DRIBBLES</th>\n",
       "      <th>TOUCH_TIME</th>\n",
       "      <th>SHOT_DIST</th>\n",
       "      <th>PTS_TYPE</th>\n",
       "      <th>CLOSE_DEF_DIST</th>\n",
       "    </tr>\n",
       "  </thead>\n",
       "  <tbody>\n",
       "    <tr>\n",
       "      <th>0</th>\n",
       "      <td>1</td>\n",
       "      <td>358</td>\n",
       "      <td>2.4</td>\n",
       "      <td>0</td>\n",
       "      <td>3.2</td>\n",
       "      <td>20.6</td>\n",
       "      <td>2</td>\n",
       "      <td>4.5</td>\n",
       "    </tr>\n",
       "    <tr>\n",
       "      <th>1</th>\n",
       "      <td>1</td>\n",
       "      <td>585</td>\n",
       "      <td>8.3</td>\n",
       "      <td>0</td>\n",
       "      <td>1.2</td>\n",
       "      <td>3.0</td>\n",
       "      <td>2</td>\n",
       "      <td>0.5</td>\n",
       "    </tr>\n",
       "    <tr>\n",
       "      <th>2</th>\n",
       "      <td>1</td>\n",
       "      <td>540</td>\n",
       "      <td>19.9</td>\n",
       "      <td>0</td>\n",
       "      <td>0.6</td>\n",
       "      <td>3.5</td>\n",
       "      <td>2</td>\n",
       "      <td>3.2</td>\n",
       "    </tr>\n",
       "    <tr>\n",
       "      <th>3</th>\n",
       "      <td>1</td>\n",
       "      <td>392</td>\n",
       "      <td>9.0</td>\n",
       "      <td>0</td>\n",
       "      <td>0.9</td>\n",
       "      <td>21.1</td>\n",
       "      <td>2</td>\n",
       "      <td>4.9</td>\n",
       "    </tr>\n",
       "    <tr>\n",
       "      <th>4</th>\n",
       "      <td>3</td>\n",
       "      <td>401</td>\n",
       "      <td>22.7</td>\n",
       "      <td>0</td>\n",
       "      <td>0.7</td>\n",
       "      <td>4.1</td>\n",
       "      <td>2</td>\n",
       "      <td>2.9</td>\n",
       "    </tr>\n",
       "  </tbody>\n",
       "</table>\n",
       "</div>"
      ],
      "text/plain": [
       "   PERIOD  GAME_CLOCK  SHOT_CLOCK  DRIBBLES  TOUCH_TIME  SHOT_DIST  PTS_TYPE  \\\n",
       "0       1         358         2.4         0         3.2       20.6         2   \n",
       "1       1         585         8.3         0         1.2        3.0         2   \n",
       "2       1         540        19.9         0         0.6        3.5         2   \n",
       "3       1         392         9.0         0         0.9       21.1         2   \n",
       "4       3         401        22.7         0         0.7        4.1         2   \n",
       "\n",
       "   CLOSE_DEF_DIST  \n",
       "0             4.5  \n",
       "1             0.5  \n",
       "2             3.2  \n",
       "3             4.9  \n",
       "4             2.9  "
      ]
     },
     "execution_count": 71,
     "metadata": {},
     "output_type": "execute_result"
    }
   ],
   "source": [
    "X_train.head()"
   ]
  },
  {
   "cell_type": "code",
   "execution_count": 72,
   "id": "4c6df97d",
   "metadata": {},
   "outputs": [
    {
     "data": {
      "text/html": [
       "<div>\n",
       "<style scoped>\n",
       "    .dataframe tbody tr th:only-of-type {\n",
       "        vertical-align: middle;\n",
       "    }\n",
       "\n",
       "    .dataframe tbody tr th {\n",
       "        vertical-align: top;\n",
       "    }\n",
       "\n",
       "    .dataframe thead th {\n",
       "        text-align: right;\n",
       "    }\n",
       "</style>\n",
       "<table border=\"1\" class=\"dataframe\">\n",
       "  <thead>\n",
       "    <tr style=\"text-align: right;\">\n",
       "      <th></th>\n",
       "      <th>PERIOD</th>\n",
       "      <th>GAME_CLOCK</th>\n",
       "      <th>SHOT_CLOCK</th>\n",
       "      <th>DRIBBLES</th>\n",
       "      <th>TOUCH_TIME</th>\n",
       "      <th>SHOT_DIST</th>\n",
       "      <th>PTS_TYPE</th>\n",
       "      <th>CLOSE_DEF_DIST</th>\n",
       "    </tr>\n",
       "  </thead>\n",
       "  <tbody>\n",
       "    <tr>\n",
       "      <th>0</th>\n",
       "      <td>3</td>\n",
       "      <td>595</td>\n",
       "      <td>11.3</td>\n",
       "      <td>1</td>\n",
       "      <td>1.8</td>\n",
       "      <td>3.9</td>\n",
       "      <td>2</td>\n",
       "      <td>0.3</td>\n",
       "    </tr>\n",
       "    <tr>\n",
       "      <th>1</th>\n",
       "      <td>2</td>\n",
       "      <td>530</td>\n",
       "      <td>11.0</td>\n",
       "      <td>0</td>\n",
       "      <td>1.0</td>\n",
       "      <td>24.3</td>\n",
       "      <td>3</td>\n",
       "      <td>6.3</td>\n",
       "    </tr>\n",
       "    <tr>\n",
       "      <th>2</th>\n",
       "      <td>1</td>\n",
       "      <td>221</td>\n",
       "      <td>21.3</td>\n",
       "      <td>2</td>\n",
       "      <td>1.9</td>\n",
       "      <td>3.5</td>\n",
       "      <td>2</td>\n",
       "      <td>11.5</td>\n",
       "    </tr>\n",
       "    <tr>\n",
       "      <th>3</th>\n",
       "      <td>3</td>\n",
       "      <td>442</td>\n",
       "      <td>9.0</td>\n",
       "      <td>0</td>\n",
       "      <td>0.6</td>\n",
       "      <td>2.4</td>\n",
       "      <td>2</td>\n",
       "      <td>3.4</td>\n",
       "    </tr>\n",
       "    <tr>\n",
       "      <th>4</th>\n",
       "      <td>1</td>\n",
       "      <td>634</td>\n",
       "      <td>16.1</td>\n",
       "      <td>0</td>\n",
       "      <td>0.8</td>\n",
       "      <td>4.2</td>\n",
       "      <td>2</td>\n",
       "      <td>1.6</td>\n",
       "    </tr>\n",
       "  </tbody>\n",
       "</table>\n",
       "</div>"
      ],
      "text/plain": [
       "   PERIOD  GAME_CLOCK  SHOT_CLOCK  DRIBBLES  TOUCH_TIME  SHOT_DIST  PTS_TYPE  \\\n",
       "0       3         595        11.3         1         1.8        3.9         2   \n",
       "1       2         530        11.0         0         1.0       24.3         3   \n",
       "2       1         221        21.3         2         1.9        3.5         2   \n",
       "3       3         442         9.0         0         0.6        2.4         2   \n",
       "4       1         634        16.1         0         0.8        4.2         2   \n",
       "\n",
       "   CLOSE_DEF_DIST  \n",
       "0             0.3  \n",
       "1             6.3  \n",
       "2            11.5  \n",
       "3             3.4  \n",
       "4             1.6  "
      ]
     },
     "execution_count": 72,
     "metadata": {},
     "output_type": "execute_result"
    }
   ],
   "source": [
    "X_test_submit.head()"
   ]
  },
  {
   "cell_type": "code",
   "execution_count": 73,
   "id": "12572aee",
   "metadata": {},
   "outputs": [
    {
     "data": {
      "text/html": [
       "<div>\n",
       "<style scoped>\n",
       "    .dataframe tbody tr th:only-of-type {\n",
       "        vertical-align: middle;\n",
       "    }\n",
       "\n",
       "    .dataframe tbody tr th {\n",
       "        vertical-align: top;\n",
       "    }\n",
       "\n",
       "    .dataframe thead th {\n",
       "        text-align: right;\n",
       "    }\n",
       "</style>\n",
       "<table border=\"1\" class=\"dataframe\">\n",
       "  <thead>\n",
       "    <tr style=\"text-align: right;\">\n",
       "      <th></th>\n",
       "      <th>FGM</th>\n",
       "    </tr>\n",
       "  </thead>\n",
       "  <tbody>\n",
       "    <tr>\n",
       "      <th>0</th>\n",
       "      <td>0</td>\n",
       "    </tr>\n",
       "    <tr>\n",
       "      <th>1</th>\n",
       "      <td>1</td>\n",
       "    </tr>\n",
       "    <tr>\n",
       "      <th>2</th>\n",
       "      <td>1</td>\n",
       "    </tr>\n",
       "    <tr>\n",
       "      <th>3</th>\n",
       "      <td>1</td>\n",
       "    </tr>\n",
       "    <tr>\n",
       "      <th>4</th>\n",
       "      <td>1</td>\n",
       "    </tr>\n",
       "  </tbody>\n",
       "</table>\n",
       "</div>"
      ],
      "text/plain": [
       "   FGM\n",
       "0    0\n",
       "1    1\n",
       "2    1\n",
       "3    1\n",
       "4    1"
      ]
     },
     "execution_count": 73,
     "metadata": {},
     "output_type": "execute_result"
    }
   ],
   "source": [
    "y_train.head()"
   ]
  },
  {
   "cell_type": "markdown",
   "id": "bcc387ca",
   "metadata": {},
   "source": [
    "# Preprocessing"
   ]
  },
  {
   "cell_type": "markdown",
   "id": "ca3ef770",
   "metadata": {},
   "source": [
    "### Standardlization"
   ]
  },
  {
   "cell_type": "code",
   "execution_count": 74,
   "id": "dfea4990",
   "metadata": {},
   "outputs": [],
   "source": [
    "from sklearn.preprocessing import StandardScaler\n",
    "\n",
    "X = X_train.iloc[:, ].values\n",
    "y = y_train.values\n",
    "\n",
    "sc_x = StandardScaler()\n",
    "X_std = sc_x.fit_transform(X)  #x train standardization\n",
    "X_test_std = sc_x.fit_transform(X_test_submit) #x test standardization"
   ]
  },
  {
   "cell_type": "markdown",
   "id": "0e6d37ee",
   "metadata": {},
   "source": [
    "### 1.Use all features to train any linear model in scikit-learn and try different hyperparameters \n",
    "### (ex. different degree, complexity). Show their performances."
   ]
  },
  {
   "cell_type": "code",
   "execution_count": 75,
   "id": "4481ce65",
   "metadata": {},
   "outputs": [
    {
     "name": "stdout",
     "output_type": "stream",
     "text": [
      "MSE train: 0.389033, valid: 0.398656, test: 0.391472\n",
      "MSE train: 0.380608, valid: 0.386661, test: 0.385913\n",
      "MSE train: 0.379108, valid: 0.386773, test: 0.386224\n",
      "MSE train: 0.375919, valid: 0.385995, test: 0.389761\n",
      "MSE train: 0.366066, valid: 0.393159, test: 0.394542\n"
     ]
    }
   ],
   "source": [
    "from sklearn.model_selection import train_test_split\n",
    "from sklearn.preprocessing import PolynomialFeatures\n",
    "from sklearn.linear_model import RidgeClassifier\n",
    "from sklearn.metrics import mean_squared_error\n",
    "\n",
    "max_degree = 6\n",
    "y = y.ravel() #switch to 1D array\n",
    "\n",
    "mse_train = []\n",
    "mse_test = []\n",
    "\n",
    "for d in range(1, max_degree):\n",
    "    \n",
    "    poly = PolynomialFeatures(degree=d)\n",
    "    \n",
    "    X_poly = poly.fit_transform(X_std)\n",
    "    \n",
    "    #Split into training, testing and validation set\n",
    "    X_train, X_test, y_train, y_test = train_test_split(\n",
    "            X_poly, y, test_size=0.3, random_state=0)\n",
    "    X_train, X_valid, y_train, y_valid = train_test_split(\n",
    "            X_train, y_train, test_size=0.3, random_state=0)\n",
    "    \n",
    "    #training set: X_train, y_train\n",
    "    #testing set: X_test, y_test\n",
    "    #validation set: X_valid, y_valid\n",
    "    #summited testing set: X_test     \n",
    "    \n",
    "    ridge_classifier = RidgeClassifier()\n",
    "    ridge_classifier.fit(X_train, y_train)\n",
    "    \n",
    "    y_train_pred = ridge_classifier.predict(X_train)\n",
    "    y_valid_pred = ridge_classifier.predict(X_valid)\n",
    "    y_test_pred = ridge_classifier.predict(X_test)\n",
    "    \n",
    "    print('MSE train: %f, valid: %f, test: %f' % (\n",
    "                    mean_squared_error(y_train, y_train_pred),\n",
    "                    mean_squared_error(y_valid, y_valid_pred),\n",
    "                    mean_squared_error(y_test, y_test_pred)\n",
    "    \n",
    "                    ))\n",
    "    mse_train.append(mean_squared_error(y_train, y_train_pred))\n",
    "    mse_test.append(mean_squared_error(y_test, y_test_pred))\n",
    "    "
   ]
  },
  {
   "cell_type": "markdown",
   "id": "39fcb227",
   "metadata": {},
   "source": [
    "### 2.Select 1 setting (model + hyperparameters) and plot the error curve to show that the setting you selected isn't over-fit.\n",
    "\n",
    "#### RidgeClassifier + degree2 has the best performence "
   ]
  },
  {
   "cell_type": "code",
   "execution_count": 76,
   "id": "15b53d7b",
   "metadata": {},
   "outputs": [
    {
     "data": {
      "image/png": "[encoded data removed]",
      "text/plain": [
       "<Figure size 640x480 with 1 Axes>"
      ]
     },
     "metadata": {},
     "output_type": "display_data"
    }
   ],
   "source": [
    "%matplotlib inline\n",
    "from pylab import *\n",
    "\n",
    "plt.plot(range(1, max_degree), mse_train, label = 'Training error', color = 'blue', linewidth = 2)\n",
    "plt.plot(range(1, max_degree), mse_test, label = 'Testing error', color = 'red', linewidth = 2)\n",
    "plt.legend(loc='upper right')\n",
    "plt.xlabel('Model complexity (polynomial degree)')\n",
    "plt.ylabel('$MSE$')\n",
    "plt.tight_layout()\n",
    "# plt.savefig('./output/fig-error-curve.png', dpi=300)\n",
    "plt.show()"
   ]
  },
  {
   "cell_type": "markdown",
   "id": "946720c4",
   "metadata": {},
   "source": [
    "### 3.Use any method to choose the best 3 features that can best aid the model's prediction. Explain how you find it.\n",
    "#### Using LASSO for Feature Selection"
   ]
  },
  {
   "cell_type": "code",
   "execution_count": null,
   "id": "645ab169",
   "metadata": {},
   "outputs": [
    {
     "data": {
      "image/png": "[encoded data removed]",
      "text/plain": [
       "<Figure size 640x480 with 1 Axes>"
      ]
     },
     "metadata": {},
     "output_type": "display_data"
    },
    {
     "name": "stdout",
     "output_type": "stream",
     "text": [
      "Selected attributes: ['SHOT_CLOCK' 'SHOT_DIST' 'CLOSE_DEF_DIST']\n",
      "(array([2, 5, 7], dtype=int64),)\n"
     ]
    }
   ],
   "source": [
    "from sklearn.linear_model import Lasso\n",
    "from sklearn.metrics import mean_squared_error\n",
    "\n",
    "y = y.ravel() #switch to 1D array\n",
    "\n",
    "poly = PolynomialFeatures(degree=3)\n",
    "X_poly = poly.fit_transform(X_std)\n",
    "\n",
    "X_train, X_test, y_train, y_test = train_test_split(\n",
    "    X_std, y, test_size=0.3, random_state=0)\n",
    "\n",
    "var_num = X_train.shape[1]\n",
    "\n",
    "lr_lasso = Lasso(alpha = 0.03)\n",
    "lr_lasso.fit(X_train, y_train)\n",
    "# lr_ridge = Ridge(alpha = 1)\n",
    "# lr_ridge.fit(X_train, y_train)\n",
    "\n",
    "plt.scatter(range(var_num),lr_lasso.coef_, label = 'LASSO', color = 'blue')\n",
    "# plt.scatter(range(var_num),lr_ridge.coef_, label = 'Ridge', color = 'green')\n",
    "plt.hlines(y=0, xmin=0, xmax=var_num-1, color='red', linestyle ='--')\n",
    "plt.xlim(0,7)\n",
    "plt.legend(loc = 'upper right')\n",
    "plt.xlabel('Coefficients index')\n",
    "plt.ylabel('Coefficients')\n",
    "plt.tight_layout()\n",
    "plt.show()\n",
    "\n",
    "epsilon = 1e-4\n",
    "idxs = np.where(abs(lr_lasso.coef_) > epsilon)\n",
    "idxs\n",
    "x = pd.read_csv('./data/X_train.csv');\n",
    "print('Selected attributes: {}'.format(x.columns.values[idxs]))\n",
    "print(idxs)\n",
    "# print(y_test[:100])"
   ]
  },
  {
   "cell_type": "markdown",
   "id": "23820cfd",
   "metadata": {},
   "source": [
    "### 4.Train the model selected in 2. with the only 3 features selected in 3., and present the training error."
   ]
  },
  {
   "cell_type": "code",
   "execution_count": null,
   "id": "e6ae3760",
   "metadata": {},
   "outputs": [],
   "source": [
    "max_degree = 6\n",
    "y = y.ravel() #switch to 1D array\n",
    "\n",
    "\n",
    "X_std_feature_selection = X_std[[2,5,7]]\n",
    "X_std_feature_selection\n",
    "\n",
    "\n",
    "poly = PolynomialFeatures(degree=2)\n",
    "\n",
    "X_poly = poly.fit_transform(X_std)\n",
    "\n",
    "#Split into training, testing set\n",
    "X_train, X_test, y_train, y_test = train_test_split(\n",
    "        X_poly, y, test_size=0.3, random_state=0)\n",
    "\n",
    "\n",
    "#training set: X_train, y_train\n",
    "#testing set: X_test, y_test\n",
    "#summited testing set: X_test_submit     \n",
    "\n",
    "ridge_classifier = RidgeClassifier()\n",
    "ridge_classifier.fit(X_train, y_train)\n",
    "\n",
    "y_train_pred = ridge_classifier.predict(X_train)\n",
    "y_test_pred = ridge_classifier.predict(X_test)\n",
    "\n",
    "print('MSE train: %f,test: %f' % (\n",
    "                mean_squared_error(y_train, y_train_pred),\n",
    "                mean_squared_error(y_test, y_test_pred)\n",
    "\n",
    "                ))\n",
    "\n",
    " \n"
   ]
  },
  {
   "cell_type": "markdown",
   "id": "2d9d55c9",
   "metadata": {},
   "source": [
    "### 5.Export the predictions of the model trained in 4. for X_test (follow the format of y_train.csv)."
   ]
  },
  {
   "cell_type": "code",
   "execution_count": null,
   "id": "fd6a88c7",
   "metadata": {},
   "outputs": [],
   "source": [
    "X_poly_submit = poly.fit_transform(X_test_std)\n",
    "y_test_pred_submit = ridge_classifier.predict(X_poly_submit)\n",
    "\n",
    "y_test_pred_submit[:100]\n",
    "df = pd.DataFrame({'FGM': y_test_pred_submit})\n",
    "# df\n",
    "csv_file_name = \"data.csv\"\n",
    "# df.to_csv(\"Lab05_111062678_y_pred.csv\", index=False)  //export prediction\n",
    "# y_test_pred_submit"
   ]
  },
  {
   "cell_type": "markdown",
   "id": "3af2a92a",
   "metadata": {},
   "source": [
    "### 6.A brief report of what you have done in this assignment."
   ]
  },
  {
   "cell_type": "markdown",
   "id": "c09880f0",
   "metadata": {},
   "source": [
    "#### Preprocessing:\n",
    " 做weight decay前先將data set 做standardlization.\n",
    "\n",
    "#### 1. Use all features to train any linear model in scikit-learn and try different hyperparameters(ex. different degree, complexity). Show their performances.\n",
    "\n",
    " (1) 因為要觀察在調整不同超參數的情況下model的performence，因此我先將data set切分為 training, testing and validation set\n",
    " \n",
    " (2) 我選擇訓練的model為RidgeClassifier，分別帶入不同的degree(1~5)分別下去train並且觀察他的mean square error\n",
    "\n",
    "#### 2. Select 1 setting (model + hyperparameters) and plot the error curve to show that the setting you selected isn't over-fit.\n",
    "\n",
    " (1) 將1.的每個不同complexity下的model train出來的結果繪製成error curve的圖，可以觀察到在degree為2時的model表現最好，在degree為1時underfiting，在degree大於2時training error大幅降低，但testing error反而升高，已經有overfitting的情況發生。\n",
    "\n",
    "#### 3. Use any method to choose the best 3 features that can best aid the model's prediction. Explain how you find it.\n",
    "\n",
    " (1) 利用Lasso做feature selection，分別帶入不同Alpha值並觀察那些feature的coefficients值，並挑選出三個非0的feature作為接下來的training set，分別為'SHOT_CLOCK'、 'SHOT_DIST'、 'CLOSE_DEF_DIST'。\n",
    "\n",
    "#### 4. Train the model selected in 2. with the only 3 features selected in 3., and present the training error.\n",
    "\n",
    " (1) 提取3.中做的feature selection的結果( 'SHOT_CLOCK'、 'SHOT_DIST'、 'CLOSE_DEF_DIST' )到data set中\n",
    " \n",
    " (2) 將data set 切分為training、testing set\n",
    " \n",
    " (3) 一樣利用RidgeClassifier來做training，並得出training set 和testing set的mean_squared_error\n",
    " \n",
    " (4) 可以發現testing set的prediction的mean_squared_error下降\n"
   ]
  }
 ],
 "metadata": {
  "kernelspec": {
   "display_name": "Python 3 (ipykernel)",
   "language": "python",
   "name": "python3"
  },
  "language_info": {
   "codemirror_mode": {
    "name": "ipython",
    "version": 3
   },
   "file_extension": ".py",
   "mimetype": "text/x-python",
   "name": "python",
   "nbconvert_exporter": "python",
   "pygments_lexer": "ipython3",
   "version": "3.10.11"
  }
 },
 "nbformat": 4,
 "nbformat_minor": 5
}

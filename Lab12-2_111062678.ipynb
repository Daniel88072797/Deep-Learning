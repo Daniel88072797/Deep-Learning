{
 "cells": [
  {
   "cell_type": "code",
   "execution_count": 74,
   "id": "6ba8f956-6f69-409e-a7e1-c5a315523b68",
   "metadata": {},
   "outputs": [
    {
     "name": "stdout",
     "output_type": "stream",
     "text": [
      "1 Physical GPUs, 1 Logical GPUs\n"
     ]
    }
   ],
   "source": [
    "import os\n",
    "import tensorflow as tf\n",
    "gpus = tf.config.experimental.list_physical_devices('GPU')\n",
    "if gpus:\n",
    "    try:\n",
    "        # Currently, memory growth needs to be the same across GPUs\n",
    "        for gpu in gpus:\n",
    "            tf.config.experimental.set_memory_growth(gpu, True)\n",
    "        tf.config.experimental.set_visible_devices(gpus[0], 'GPU')\n",
    "        logical_gpus = tf.config.experimental.list_logical_devices('GPU')\n",
    "        print(len(gpus), \"Physical GPUs,\", len(logical_gpus), \"Logical GPUs\")\n",
    "    except RuntimeError as e:\n",
    "        # Memory growth must be set before GPUs have been initialized\n",
    "        print(e)"
   ]
  },
  {
   "cell_type": "code",
   "execution_count": 75,
   "id": "ad6cd194-e19f-4c33-b45f-445437681936",
   "metadata": {
    "scrolled": true
   },
   "outputs": [
    {
     "name": "stdout",
     "output_type": "stream",
     "text": [
      "./words_captcha/a3.png\n",
      "<start> i d s <end>\n"
     ]
    }
   ],
   "source": [
    "import glob\n",
    "annotation_file = './words_captcha/spec_train_val.txt'\n",
    "IMAGE_DIR = './words_captcha/'\n",
    "\n",
    "img_name_list = []\n",
    "caption_list = []\n",
    "\n",
    "with open(annotation_file) as f:\n",
    "    for line in f:\n",
    "        image_name, caption = line.strip().split()\n",
    "        img_name_list.append(f'./words_captcha/{image_name}.png')\n",
    "        caption_list.append('<start> ' + ' '.join(caption) + ' <end>')\n",
    "\n",
    "test_img_name = set(glob.glob(f'./words_captcha/*.png')) - set(img_name_list)\n",
    "img_name_list += sorted(test_img_name)\n",
    "\n",
    "print(img_name_list[3])\n",
    "print(caption_list[3])"
   ]
  },
  {
   "cell_type": "code",
   "execution_count": 76,
   "id": "632c2a2a-04db-4b3e-b60e-6c8061e8fdea",
   "metadata": {},
   "outputs": [
    {
     "name": "stdout",
     "output_type": "stream",
     "text": [
      "[[ 2  9 18 ...  6  3  0]\n",
      " [ 2 24 24 ...  3  0  0]\n",
      " [ 2  9  8 ... 13  3  0]\n",
      " ...\n",
      " [ 2 24  5 ...  3  0  0]\n",
      " [ 2 14  5 ...  4  3  0]\n",
      " [ 2  6  8 ... 23  3  0]]\n",
      "7\n",
      "<start> t i e d <end>\n",
      "[ 2  9  8  4 13  3  0]\n"
     ]
    }
   ],
   "source": [
    "tokenizer = tf.keras.preprocessing.text.Tokenizer(oov_token='', filters='!\"#$%&()*+,-./:;=?@[\\\\]^_`{|}~\\t\\n')\n",
    "tokenizer.fit_on_texts(caption_list)\n",
    "cap_seqs = tokenizer.texts_to_sequences(caption_list)\n",
    "\n",
    "cap_seqs = tf.keras.preprocessing.sequence.pad_sequences(cap_seqs, padding='post')\n",
    "max_length = len(cap_seqs[0])\n",
    "\n",
    "print(cap_seqs)\n",
    "print(max_length)\n",
    "print(caption_list[2])\n",
    "print(cap_seqs[2])"
   ]
  },
  {
   "cell_type": "code",
   "execution_count": 77,
   "id": "ee91a110-f06b-425d-9da1-efab06063ac3",
   "metadata": {},
   "outputs": [],
   "source": [
    "img_name_train, img_name_valid = img_name_list[:100000], img_name_list[100000:120000]\n",
    "cap_seqs_train, cap_seqs_valid = cap_seqs[:100000], cap_seqs[100000:]\n",
    "img_name_test = img_name_list[120000:]"
   ]
  },
  {
   "cell_type": "code",
   "execution_count": 78,
   "id": "40e66ca6-ff44-408b-9dae-cd906e62a95c",
   "metadata": {},
   "outputs": [],
   "source": [
    "IMAGE_SIZE = (160, 300)\n",
    "\n",
    "BATCH_SIZE = 100\n",
    "BUFFER_SIZE = 5000\n",
    "embedding_dim = 256\n",
    "units = 512\n",
    "vocab_size = len(tokenizer.word_index) + 1\n",
    "EPOCHS = 10\n",
    "num_steps = len(img_name_train) // BATCH_SIZE\n",
    "learning_rate = 1e-4"
   ]
  },
  {
   "cell_type": "code",
   "execution_count": 79,
   "id": "11129723-3c5c-41d5-b2b2-3e4500067893",
   "metadata": {},
   "outputs": [],
   "source": [
    "def map_func(img_path, cap_seq):\n",
    "    img = tf.io.read_file(img_path)\n",
    "    img = tf.image.decode_png(img, channels=3)\n",
    "    img = tf.image.resize(img, IMAGE_SIZE)\n",
    "    img = img / 255 * 2 - 1 #normalize image\n",
    "    return img, cap_seq"
   ]
  },
  {
   "cell_type": "code",
   "execution_count": 80,
   "id": "b7dfc782-e151-4b53-b67e-496a08c6b2d3",
   "metadata": {},
   "outputs": [],
   "source": [
    "dataset_train = tf.data.Dataset.from_tensor_slices((img_name_train, cap_seqs_train))\\\n",
    "                               .map(map_func, num_parallel_calls=tf.data.experimental.AUTOTUNE)\\\n",
    "                               .shuffle(BUFFER_SIZE)\\\n",
    "                               .batch(BATCH_SIZE, drop_remainder=True)\\\n",
    "                               .prefetch(tf.data.experimental.AUTOTUNE)\n",
    "\n",
    "dataset_valid = tf.data.Dataset.from_tensor_slices((img_name_valid, cap_seqs_valid))\\\n",
    "                               .map(map_func, num_parallel_calls=tf.data.experimental.AUTOTUNE)\\\n",
    "                               .batch(BATCH_SIZE, drop_remainder=True)\\\n",
    "                               .prefetch(tf.data.experimental.AUTOTUNE)"
   ]
  },
  {
   "cell_type": "code",
   "execution_count": 81,
   "id": "54fab9bb-013e-43d8-8d06-5f22abbc7f95",
   "metadata": {},
   "outputs": [],
   "source": [
    "# extract feature\n",
    "from tensorflow.keras import layers\n",
    "\n",
    "class conv_leaky_relu(layers.Layer):\n",
    "    def __init__(self, filters, size, stride):\n",
    "        super(conv_leaky_relu, self).__init__()\n",
    "        self.conv_2d = layers.Conv2D(filters, size, stride, padding='same')\n",
    "        self.batch_norm = layers.BatchNormalization()\n",
    "        self.leakey_relu = layers.LeakyReLU(0.1)\n",
    "\n",
    "    def call(self, inputs):\n",
    "        x = self.conv_2d(inputs)\n",
    "        x = self.batch_norm(x)\n",
    "        x = self.leakey_relu(x)\n",
    "        return x"
   ]
  },
  {
   "cell_type": "code",
   "execution_count": 82,
   "id": "ad4ca339-7533-44d5-bd42-f858a71db283",
   "metadata": {},
   "outputs": [],
   "source": [
    "from tensorflow.keras import Input, layers, Model\n",
    "\n",
    "inputs = Input(shape=(IMAGE_SIZE[0], IMAGE_SIZE[1], 3))\n",
    "x = conv_leaky_relu(64, 7, 2)(inputs)\n",
    "x = layers.MaxPool2D()(x)\n",
    "x = conv_leaky_relu(192, 3, 1)(x)\n",
    "x = layers.MaxPool2D()(x)\n",
    "x = conv_leaky_relu(128, 1, 1)(x)\n",
    "x = conv_leaky_relu(256, 3, 1)(x)\n",
    "x = conv_leaky_relu(256, 1, 1)(x)\n",
    "x = conv_leaky_relu(512, 3, 1)(x)\n",
    "x = layers.MaxPool2D()(x)\n",
    "x = conv_leaky_relu(256, 1, 1)(x)\n",
    "x = conv_leaky_relu(512, 3, 1)(x)\n",
    "x = conv_leaky_relu(256, 1, 1)(x)\n",
    "x = conv_leaky_relu(512, 3, 1)(x)\n",
    "x = conv_leaky_relu(256, 1, 1)(x)\n",
    "x = conv_leaky_relu(512, 3, 1)(x)\n",
    "x = conv_leaky_relu(256, 1, 1)(x)\n",
    "x = conv_leaky_relu(512, 3, 1)(x)\n",
    "x = conv_leaky_relu(512, 1, 1)(x)\n",
    "x = conv_leaky_relu(1024, 3, 1)(x)\n",
    "x = layers.MaxPool2D()(x)\n",
    "x = conv_leaky_relu(512, 1, 1)(x)\n",
    "x = conv_leaky_relu(1024, 3, 1)(x)\n",
    "x = conv_leaky_relu(512, 1, 1)(x)\n",
    "x = conv_leaky_relu(1024, 3, 1)(x)\n",
    "x = conv_leaky_relu(1024, 3, 1)(x)\n",
    "x = conv_leaky_relu(1024, 3, 2)(x)\n",
    "x = conv_leaky_relu(1024, 3, 1)(x)\n",
    "outputs = conv_leaky_relu(1024, 3, 1)(x)\n",
    "\n",
    "feature_extractor = Model(inputs=inputs, outputs=outputs, name='YOLO')"
   ]
  },
  {
   "cell_type": "code",
   "execution_count": 83,
   "id": "ed6a44f6-f2ff-4055-98ed-370d538af784",
   "metadata": {},
   "outputs": [
    {
     "name": "stdout",
     "output_type": "stream",
     "text": [
      "Model: \"YOLO\"\n",
      "_________________________________________________________________\n",
      " Layer (type)                Output Shape              Param #   \n",
      "=================================================================\n",
      " input_3 (InputLayer)        [(None, 160, 300, 3)]     0         \n",
      "                                                                 \n",
      " conv_leaky_relu_48 (conv_le  (None, 80, 150, 64)      9728      \n",
      " aky_relu)                                                       \n",
      "                                                                 \n",
      " max_pooling2d_8 (MaxPooling  (None, 40, 75, 64)       0         \n",
      " 2D)                                                             \n",
      "                                                                 \n",
      " conv_leaky_relu_49 (conv_le  (None, 40, 75, 192)      111552    \n",
      " aky_relu)                                                       \n",
      "                                                                 \n",
      " max_pooling2d_9 (MaxPooling  (None, 20, 37, 192)      0         \n",
      " 2D)                                                             \n",
      "                                                                 \n",
      " conv_leaky_relu_50 (conv_le  (None, 20, 37, 128)      25216     \n",
      " aky_relu)                                                       \n",
      "                                                                 \n",
      " conv_leaky_relu_51 (conv_le  (None, 20, 37, 256)      296192    \n",
      " aky_relu)                                                       \n",
      "                                                                 \n",
      " conv_leaky_relu_52 (conv_le  (None, 20, 37, 256)      66816     \n",
      " aky_relu)                                                       \n",
      "                                                                 \n",
      " conv_leaky_relu_53 (conv_le  (None, 20, 37, 512)      1182208   \n",
      " aky_relu)                                                       \n",
      "                                                                 \n",
      " max_pooling2d_10 (MaxPoolin  (None, 10, 18, 512)      0         \n",
      " g2D)                                                            \n",
      "                                                                 \n",
      " conv_leaky_relu_54 (conv_le  (None, 10, 18, 256)      132352    \n",
      " aky_relu)                                                       \n",
      "                                                                 \n",
      " conv_leaky_relu_55 (conv_le  (None, 10, 18, 512)      1182208   \n",
      " aky_relu)                                                       \n",
      "                                                                 \n",
      " conv_leaky_relu_56 (conv_le  (None, 10, 18, 256)      132352    \n",
      " aky_relu)                                                       \n",
      "                                                                 \n",
      " conv_leaky_relu_57 (conv_le  (None, 10, 18, 512)      1182208   \n",
      " aky_relu)                                                       \n",
      "                                                                 \n",
      " conv_leaky_relu_58 (conv_le  (None, 10, 18, 256)      132352    \n",
      " aky_relu)                                                       \n",
      "                                                                 \n",
      " conv_leaky_relu_59 (conv_le  (None, 10, 18, 512)      1182208   \n",
      " aky_relu)                                                       \n",
      "                                                                 \n",
      " conv_leaky_relu_60 (conv_le  (None, 10, 18, 256)      132352    \n",
      " aky_relu)                                                       \n",
      "                                                                 \n",
      " conv_leaky_relu_61 (conv_le  (None, 10, 18, 512)      1182208   \n",
      " aky_relu)                                                       \n",
      "                                                                 \n",
      " conv_leaky_relu_62 (conv_le  (None, 10, 18, 512)      264704    \n",
      " aky_relu)                                                       \n",
      "                                                                 \n",
      " conv_leaky_relu_63 (conv_le  (None, 10, 18, 1024)     4723712   \n",
      " aky_relu)                                                       \n",
      "                                                                 \n",
      " max_pooling2d_11 (MaxPoolin  (None, 5, 9, 1024)       0         \n",
      " g2D)                                                            \n",
      "                                                                 \n",
      " conv_leaky_relu_64 (conv_le  (None, 5, 9, 512)        526848    \n",
      " aky_relu)                                                       \n",
      "                                                                 \n",
      " conv_leaky_relu_65 (conv_le  (None, 5, 9, 1024)       4723712   \n",
      " aky_relu)                                                       \n",
      "                                                                 \n",
      " conv_leaky_relu_66 (conv_le  (None, 5, 9, 512)        526848    \n",
      " aky_relu)                                                       \n",
      "                                                                 \n",
      " conv_leaky_relu_67 (conv_le  (None, 5, 9, 1024)       4723712   \n",
      " aky_relu)                                                       \n",
      "                                                                 \n",
      " conv_leaky_relu_68 (conv_le  (None, 5, 9, 1024)       9442304   \n",
      " aky_relu)                                                       \n",
      "                                                                 \n",
      " conv_leaky_relu_69 (conv_le  (None, 3, 5, 1024)       9442304   \n",
      " aky_relu)                                                       \n",
      "                                                                 \n",
      " conv_leaky_relu_70 (conv_le  (None, 3, 5, 1024)       9442304   \n",
      " aky_relu)                                                       \n",
      "                                                                 \n",
      " conv_leaky_relu_71 (conv_le  (None, 3, 5, 1024)       9442304   \n",
      " aky_relu)                                                       \n",
      "                                                                 \n",
      "=================================================================\n",
      "Total params: 60,208,704\n",
      "Trainable params: 60,182,336\n",
      "Non-trainable params: 26,368\n",
      "_________________________________________________________________\n"
     ]
    }
   ],
   "source": [
    "feature_extractor.summary()"
   ]
  },
  {
   "cell_type": "code",
   "execution_count": 84,
   "id": "6a91f5d3-75b3-4535-91e0-18449045f7d7",
   "metadata": {},
   "outputs": [],
   "source": [
    "class BahdanauAttention(tf.keras.Model):\n",
    "    def __init__(self, units):\n",
    "        super(BahdanauAttention, self).__init__()\n",
    "        self.W1 = tf.keras.layers.Dense(units)\n",
    "        self.W2 = tf.keras.layers.Dense(units)\n",
    "        self.V = tf.keras.layers.Dense(1)\n",
    "\n",
    "    def call(self, features, hidden):\n",
    "        # features(CNN_encoder output) shape == (batch_size, 64, embedding_dim)\n",
    "\n",
    "        # hidden shape == (batch_size, hidden_size)\n",
    "        # hidden_with_time_axis shape == (batch_size, 1, hidden_size)\n",
    "        hidden_with_time_axis = tf.expand_dims(hidden, 1)\n",
    "\n",
    "        # score shape == (batch_size, 64, hidden_size)\n",
    "        score = tf.nn.tanh(self.W1(features) + self.W2(hidden_with_time_axis))\n",
    "\n",
    "        # attention_weights shape == (batch_size, 64, 1)\n",
    "        # you get 1 at the last axis because you are applying score to self.V\n",
    "        attention_weights = tf.nn.softmax(self.V(score), axis=1)\n",
    "\n",
    "        # context_vector shape after sum == (batch_size, hidden_size)\n",
    "        context_vector = attention_weights * features\n",
    "        context_vector = tf.reduce_sum(context_vector, axis=1)\n",
    "\n",
    "        return context_vector, attention_weights"
   ]
  },
  {
   "cell_type": "code",
   "execution_count": 85,
   "id": "2dab3010-cb7d-4ff9-b61e-415b64e3d2fd",
   "metadata": {},
   "outputs": [],
   "source": [
    "class CNN_Encoder(tf.keras.Model):\n",
    "    # Since you have already extracted the features and dumped it using pickle\n",
    "    # This encoder passes those features through a Fully connected layer\n",
    "    def __init__(self, embedding_dim):\n",
    "        super(CNN_Encoder, self).__init__()\n",
    "        # shape after fc == (batch_size, 64, embedding_dim)\n",
    "        self.fc = tf.keras.layers.Dense(embedding_dim)\n",
    "\n",
    "    def call(self, x):\n",
    "        x = self.fc(x)\n",
    "        x = tf.nn.relu(x)\n",
    "        return x"
   ]
  },
  {
   "cell_type": "code",
   "execution_count": 86,
   "id": "b7b3484b-dda1-49d4-af7e-49199280e1f9",
   "metadata": {},
   "outputs": [],
   "source": [
    "class RNN_Decoder(tf.keras.Model):\n",
    "    def __init__(self, embedding_dim, units, vocab_size):\n",
    "        super(RNN_Decoder, self).__init__()\n",
    "        self.units = units\n",
    "\n",
    "        self.embedding = tf.keras.layers.Embedding(vocab_size, embedding_dim)\n",
    "        self.gru = tf.keras.layers.GRU(self.units,\n",
    "                                       return_sequences=True,\n",
    "                                       return_state=True,\n",
    "                                       recurrent_initializer='glorot_uniform')\n",
    "        self.fc1 = tf.keras.layers.Dense(self.units)\n",
    "        self.fc2 = tf.keras.layers.Dense(vocab_size)\n",
    "\n",
    "        self.attention = BahdanauAttention(self.units)\n",
    "\n",
    "    def call(self, x, features, hidden):\n",
    "        # defining attention as a separate model\n",
    "        context_vector, attention_weights = self.attention(features, hidden)\n",
    "\n",
    "        # x shape after passing through embedding == (batch_size, 1, embedding_dim)\n",
    "        x = self.embedding(x)\n",
    "\n",
    "        # x shape after concatenation == (batch_size, 1, embedding_dim + hidden_size)\n",
    "        x = tf.concat([tf.expand_dims(context_vector, 1), x], axis=-1)\n",
    "\n",
    "        # passing the concatenated vector to the GRU\n",
    "        output, state = self.gru(x)\n",
    "\n",
    "        # shape == (batch_size, max_length, hidden_size)\n",
    "        x = self.fc1(output)\n",
    "\n",
    "        # x shape == (batch_size * max_length, hidden_size)\n",
    "        x = tf.reshape(x, (-1, x.shape[2]))\n",
    "\n",
    "        # output shape == (batch_size * max_length, vocab)\n",
    "        x = self.fc2(x)\n",
    "\n",
    "        return x, state, attention_weights\n",
    "\n",
    "    def reset_state(self, batch_size):\n",
    "        return tf.zeros((batch_size, self.units))"
   ]
  },
  {
   "cell_type": "code",
   "execution_count": 87,
   "id": "227c86b7-87d5-4177-8640-476283c2630f",
   "metadata": {},
   "outputs": [],
   "source": [
    "encoder = CNN_Encoder(embedding_dim)\n",
    "decoder = RNN_Decoder(embedding_dim, units, vocab_size)"
   ]
  },
  {
   "cell_type": "code",
   "execution_count": 88,
   "id": "67bf0111-2354-49a1-ad1b-b68d473b66a7",
   "metadata": {},
   "outputs": [],
   "source": [
    "optimizer = tf.keras.optimizers.Adam(learning_rate=learning_rate)\n",
    "loss_object = tf.keras.losses.SparseCategoricalCrossentropy(\n",
    "    from_logits=True, reduction='none')\n",
    "\n",
    "\n",
    "def loss_function(real, pred):\n",
    "    mask = tf.math.logical_not(tf.math.equal(real, 0))\n",
    "    loss_ = loss_object(real, pred)\n",
    "\n",
    "    mask = tf.cast(mask, dtype=loss_.dtype)\n",
    "    loss_ *= mask\n",
    "\n",
    "    return tf.reduce_mean(loss_)"
   ]
  },
  {
   "cell_type": "code",
   "execution_count": 89,
   "id": "617d432e-efcb-4ad1-ac9c-0f83c8157ee8",
   "metadata": {},
   "outputs": [],
   "source": [
    "# Checkpoint\n",
    "checkpoint_path = './checkpoints/YOLO/'\n",
    "ckpt = tf.train.Checkpoint(feature_extractor=feature_extractor,\n",
    "                           encoder=encoder,\n",
    "                           decoder=decoder,\n",
    "                           optimizer=optimizer)\n",
    "ckpt_manager = tf.train.CheckpointManager(ckpt, checkpoint_path, max_to_keep=3)"
   ]
  },
  {
   "cell_type": "code",
   "execution_count": 90,
   "id": "2251aa93-d1d3-4ba8-aab0-68962a4335fa",
   "metadata": {},
   "outputs": [],
   "source": [
    "start_epoch = 0\n",
    "if ckpt_manager.latest_checkpoint:\n",
    "    start_epoch = int(ckpt_manager.latest_checkpoint.split('-')[-1])"
   ]
  },
  {
   "cell_type": "code",
   "execution_count": 91,
   "id": "41b80507-8479-43aa-83d2-ce42cd24e4fd",
   "metadata": {},
   "outputs": [],
   "source": [
    "# adding this in a separate cell because if you run the training cell\n",
    "# many times, the loss_plot array will be reset\n",
    "loss_plot = []"
   ]
  },
  {
   "cell_type": "code",
   "execution_count": 94,
   "id": "0dc3aaa5-1b67-420b-a365-660c39b8c6fc",
   "metadata": {},
   "outputs": [],
   "source": [
    "@tf.function\n",
    "def train_step(img_tensor, target):\n",
    "    loss = 0\n",
    "    \n",
    "    hidden = decoder.reset_state(batch_size=BATCH_SIZE)\n",
    "    dec_input = tf.expand_dims([tokenizer.word_index['<start>']] * BATCH_SIZE, 1)\n",
    "    \n",
    "    with tf.GradientTape() as tape:\n",
    "        features = feature_extractor(img_tensor, True)\n",
    "        features = tf.reshape(features, (features.shape[0], -1, features.shape[3]))\n",
    "        features = encoder(features)\n",
    "\n",
    "        for i in range(1, target.shape[1]):\n",
    "            predictions, hidden, _ = decoder(dec_input, features, hidden)\n",
    "            loss += loss_function(target[:, i], predictions)\n",
    "            # using teacher forcing\n",
    "            dec_input = tf.expand_dims(target[:, i], 1)\n",
    "\n",
    "    total_loss = (loss / int(target.shape[1]))\n",
    "\n",
    "    trainable_variables = feature_extractor.trainable_variables + encoder.trainable_variables + decoder.trainable_variables\n",
    "    \n",
    "    gradients = tape.gradient(loss, trainable_variables)\n",
    "    optimizer.apply_gradients(zip(gradients, trainable_variables))\n",
    "\n",
    "    return total_loss"
   ]
  },
  {
   "cell_type": "code",
   "execution_count": 95,
   "id": "62ca7af6-7d71-4bc8-a225-2c1550f8cb4d",
   "metadata": {},
   "outputs": [
    {
     "name": "stderr",
     "output_type": "stream",
     "text": [
      "Epoch  1: 100%|█████████████████████████████████████████████████████████| 1000/1000 [08:06<00:00,  2.06it/s, loss=1.23]\n",
      "Epoch  2: 100%|████████████████████████████████████████████████████████| 1000/1000 [07:57<00:00,  2.09it/s, loss=0.157]\n",
      "Epoch  3: 100%|███████████████████████████████████████████████████████| 1000/1000 [07:57<00:00,  2.10it/s, loss=0.0491]\n",
      "Epoch  4: 100%|███████████████████████████████████████████████████████| 1000/1000 [08:03<00:00,  2.07it/s, loss=0.0311]\n",
      "Epoch  5: 100%|███████████████████████████████████████████████████████| 1000/1000 [07:58<00:00,  2.09it/s, loss=0.0207]\n",
      "Epoch  6: 100%|███████████████████████████████████████████████████████| 1000/1000 [08:00<00:00,  2.08it/s, loss=0.0172]\n",
      "Epoch  7: 100%|███████████████████████████████████████████████████████| 1000/1000 [07:56<00:00,  2.10it/s, loss=0.0141]\n",
      "Epoch  8: 100%|███████████████████████████████████████████████████████| 1000/1000 [07:57<00:00,  2.09it/s, loss=0.0116]\n",
      "Epoch  9: 100%|███████████████████████████████████████████████████████| 1000/1000 [07:52<00:00,  2.12it/s, loss=0.0117]\n",
      "Epoch 10: 100%|██████████████████████████████████████████████████████| 1000/1000 [08:01<00:00,  2.08it/s, loss=0.00784]\n"
     ]
    },
    {
     "name": "stdout",
     "output_type": "stream",
     "text": [
      "Time taken for 10 epoch 4829.953393936157 sec\n",
      "\n"
     ]
    }
   ],
   "source": [
    "import time\n",
    "from tqdm import tqdm\n",
    "\n",
    "loss_plot = []\n",
    "start = time.time()\n",
    "for epoch in range(start_epoch, EPOCHS):\n",
    "    loss = 0\n",
    "    pbar = tqdm(dataset_train, total=num_steps, desc=f'Epoch {epoch + 1:2d}')\n",
    "    for (step, (img_tensor, target)) in enumerate(pbar):\n",
    "        loss += train_step(img_tensor, target)\n",
    "        pbar.set_postfix({'loss': loss.numpy() / (step + 1)})\n",
    "\n",
    "    loss_plot.append(loss / num_steps)\n",
    "    ckpt_manager.save()\n",
    "\n",
    "    # score = evaluate(dataset_valid)\n",
    "    # print(f'Validation accuracy: {score:.2f}')\n",
    "\n",
    "print('Time taken for {} epoch {} sec\\n'.format(EPOCHS - start_epoch, time.time() - start))"
   ]
  },
  {
   "cell_type": "code",
   "execution_count": 96,
   "id": "be5b6f7b-ea76-4891-9e6a-816ed15b8ae0",
   "metadata": {},
   "outputs": [
    {
     "data": {
      "image/png": "[encoded data removed]",
      "text/plain": [
       "<Figure size 640x480 with 1 Axes>"
      ]
     },
     "metadata": {},
     "output_type": "display_data"
    }
   ],
   "source": [
    "import matplotlib.pyplot as plt\n",
    "\n",
    "plt.plot(loss_plot)\n",
    "plt.xlabel('Epochs')\n",
    "plt.ylabel('Loss')\n",
    "plt.title('Loss Plot')\n",
    "plt.show()"
   ]
  },
  {
   "cell_type": "code",
   "execution_count": 97,
   "id": "2ab0f036-6907-4a0d-858c-4e764d115720",
   "metadata": {},
   "outputs": [
    {
     "data": {
      "text/plain": [
       "<tensorflow.python.checkpoint.checkpoint.CheckpointLoadStatus at 0x1dbdee40b20>"
      ]
     },
     "execution_count": 97,
     "metadata": {},
     "output_type": "execute_result"
    }
   ],
   "source": [
    "ckpt = tf.train.Checkpoint(feature_extractor=feature_extractor,\n",
    "                           encoder=encoder,\n",
    "                           decoder=decoder,\n",
    "                           optimizer=optimizer)\n",
    "ckpt.restore('./checkpoints/YOLO/ckpt-10')"
   ]
  },
  {
   "cell_type": "code",
   "execution_count": 98,
   "id": "f19710e8-7cff-40b7-99b3-b4796a384944",
   "metadata": {},
   "outputs": [],
   "source": [
    "import numpy as np\n",
    "\n",
    "total_equal = 0\n",
    "total_loss = 0\n",
    "\n",
    "START = tokenizer.word_index['<start>']\n",
    "END = tokenizer.word_index['<end>']\n",
    "\n",
    "for (batch, (img_tensor, target)) in enumerate(dataset_valid):\n",
    "\n",
    "    loss = 0\n",
    "\n",
    "    # initializing the hidden state for each batch\n",
    "    # because the captions are not related from image to image\n",
    "    hidden = decoder.reset_state(batch_size=target.shape[0])\n",
    "\n",
    "    dec_input = tf.expand_dims([tokenizer.word_index['<start>']] * BATCH_SIZE, 1)\n",
    "\n",
    "    features = feature_extractor(img_tensor,False)\n",
    "    features = tf.reshape(features,(features.shape[0], -1, features.shape[3]))\n",
    "    features = encoder(features)\n",
    "\n",
    "    # result = []\n",
    "    result = np.full((BATCH_SIZE, 1), START)\n",
    "\n",
    "    for i in range(1, target.shape[1]):\n",
    "\n",
    "        # passing the features through the decoder\n",
    "        predictions, hidden, _ = decoder(dec_input, features, hidden)\n",
    "        predicted_id = tf.argmax(predictions,axis=1).numpy()\n",
    "\n",
    "        loss += loss_function(target[:, i], predictions)\n",
    "\n",
    "        result = np.concatenate((result, predicted_id.reshape((BATCH_SIZE,1))), axis=1)\n",
    "\n",
    "        dec_input = tf.expand_dims(predicted_id, 1)\n",
    "\n",
    "    target_array = target.numpy()\n",
    "\n",
    "    total_loss += (loss / int(target.shape[1]))\n",
    "\n",
    "    for i in range(BATCH_SIZE):\n",
    "        for j in range(max_length):\n",
    "            if result[i][j] == END and target_array[i][j] == END:\n",
    "                if (result[i][1:j] == target_array[i][1:j]).all():\n",
    "                    total_equal+=1\n",
    "                break"
   ]
  },
  {
   "cell_type": "code",
   "execution_count": 99,
   "id": "c2b1b85c-a172-47e0-ab50-256189133922",
   "metadata": {},
   "outputs": [
    {
     "name": "stdout",
     "output_type": "stream",
     "text": [
      "Valid Accuracy 0.922, Validation Loss 0.073\n"
     ]
    }
   ],
   "source": [
    "valid_acu = round( float(total_equal ) / (( batch + 1 ) * BATCH_SIZE ), 3)\n",
    "valid_loss = round(float(total_loss / (batch + 1)), 3)\n",
    "print (f'Valid Accuracy {valid_acu}, Validation Loss {valid_loss}')"
   ]
  },
  {
   "cell_type": "code",
   "execution_count": 100,
   "id": "98def3cb-fb38-4343-b123-1a2d247a25c2",
   "metadata": {},
   "outputs": [],
   "source": [
    "def map_test(img_path):\n",
    "    img = tf.io.read_file(img_path)\n",
    "    img = tf.image.decode_png(img, channels=3)\n",
    "    img = tf.image.resize(img, IMAGE_SIZE)\n",
    "    img = img / 255 * 2 - 1\n",
    "    return img, img_path"
   ]
  },
  {
   "cell_type": "code",
   "execution_count": 101,
   "id": "f32dd7b4-7f08-403d-8dc6-569bc4b47171",
   "metadata": {},
   "outputs": [],
   "source": [
    "dataset_test = tf.data.Dataset.from_tensor_slices((img_name_test))\\\n",
    "                              .map(map_test, num_parallel_calls=tf.data.experimental.AUTOTUNE)\\\n",
    "                              .batch(100)\\\n",
    "                              .prefetch(tf.data.experimental.AUTOTUNE)"
   ]
  },
  {
   "cell_type": "code",
   "execution_count": 102,
   "id": "bda76ee9-5171-491f-872c-0446923edc93",
   "metadata": {},
   "outputs": [
    {
     "name": "stdout",
     "output_type": "stream",
     "text": [
      "<PrefetchDataset element_spec=(TensorSpec(shape=(None, 160, 300, 3), dtype=tf.float32, name=None), TensorSpec(shape=(None,), dtype=tf.string, name=None))>\n"
     ]
    }
   ],
   "source": [
    "print(dataset_test)"
   ]
  },
  {
   "cell_type": "code",
   "execution_count": 103,
   "id": "74d08985-d935-4824-8789-f3c9c4cefd6c",
   "metadata": {},
   "outputs": [],
   "source": [
    "def predict(img_tensor):\n",
    "    batch_size = img_tensor.shape[0]\n",
    "    dec_input = tf.expand_dims([tokenizer.word_index['<start>']] * batch_size, 1)\n",
    "\n",
    "    features = feature_extractor(img_tensor)\n",
    "    features = tf.reshape(features, (features.shape[0], -1, features.shape[3]))\n",
    "    features = encoder(features)\n",
    "\n",
    "    hidden = decoder.reset_state(batch_size=batch_size)\n",
    "\n",
    "    result = tf.expand_dims([tokenizer.word_index['<start>']] * batch_size, 1)\n",
    "    for _ in range(max_length):\n",
    "        predictions, hidden, _ = decoder(dec_input, features, hidden)\n",
    "        predicted_id = tf.argmax(predictions, axis=1).numpy()\n",
    "        dec_input = tf.expand_dims(predicted_id, 1)\n",
    "        result = tf.concat([result, predicted_id.reshape((batch_size, 1))], axis=1)\n",
    "\n",
    "    return result"
   ]
  },
  {
   "cell_type": "code",
   "execution_count": 105,
   "id": "e57fd80a-d049-45d9-a650-a98f5fab374f",
   "metadata": {},
   "outputs": [],
   "source": [
    "import re\n",
    "output = './Lab12-2_111062678.txt'\n",
    "with open(output, 'w') as fout:\n",
    "    for step, (img_tensor, img_path) in enumerate(dataset_test):\n",
    "        segs = predict(img_tensor).numpy();\n",
    "        pred_list = []\n",
    "        for seq in segs:\n",
    "            result = ''\n",
    "            for s in seq[1:]:\n",
    "                if s == tokenizer.word_index['<end>']:\n",
    "                    break\n",
    "                result += tokenizer.index_word[s]\n",
    "            pred_list.append(result)\n",
    "        \n",
    "        for path, pred in zip(img_path, pred_list):\n",
    "            path = path.numpy().decode('utf-8')\n",
    "            name = re.search('(a[0-9]+)', path).group(1)\n",
    "            fout.write(f'{name} {pred}\\n')"
   ]
  },
  {
   "cell_type": "markdown",
   "id": "a3e2660f-87e4-42a1-839f-534522b16173",
   "metadata": {},
   "source": [
    "### Report\n",
    "架構和Image Captioning一樣是透過CNN做feature extraction，再接上CNN encoder和RNN decoder，在lab中的Image Captioning 主要是focus在word，但這裡主要是透過圖片預測各個單字，因此這邊會將每個單字賦予一個編號。此處的feature extraction的架構是遵循YOLO而設計的，encoder和decoder是遵照lab上的code，在訓練過程中，我設置了10個epochs，最終利用第十個epoch的weight得到了0.922的Valid Accuracy。之後會想再試試看能不能透過置換feature extraction的CNN架構來更進一步的提升Validation Accuracy。"
   ]
  },
  {
   "cell_type": "code",
   "execution_count": null,
   "id": "be9f3966-9c65-4c64-9b86-d0b2bfb6e114",
   "metadata": {},
   "outputs": [],
   "source": []
  }
 ],
 "metadata": {
  "kernelspec": {
   "display_name": "Python 3 (ipykernel)",
   "language": "python",
   "name": "python3"
  },
  "language_info": {
   "codemirror_mode": {
    "name": "ipython",
    "version": 3
   },
   "file_extension": ".py",
   "mimetype": "text/x-python",
   "name": "python",
   "nbconvert_exporter": "python",
   "pygments_lexer": "ipython3",
   "version": "3.9.18"
  }
 },
 "nbformat": 4,
 "nbformat_minor": 5
}
